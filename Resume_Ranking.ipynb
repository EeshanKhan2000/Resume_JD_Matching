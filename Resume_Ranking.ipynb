{
  "nbformat": 4,
  "nbformat_minor": 0,
  "metadata": {
    "colab": {
      "provenance": []
    },
    "kernelspec": {
      "name": "python3",
      "display_name": "Python 3"
    },
    "language_info": {
      "name": "python"
    }
  },
  "cells": [
    {
      "cell_type": "code",
      "execution_count": 1,
      "metadata": {
        "colab": {
          "base_uri": "https://localhost:8080/"
        },
        "id": "eEuvCc17CttH",
        "outputId": "66192a8f-e1f4-434a-da87-b72fdb05de55"
      },
      "outputs": [
        {
          "output_type": "stream",
          "name": "stdout",
          "text": [
            "Mounted at /content/drive\n"
          ]
        }
      ],
      "source": [
        "from google.colab import drive\n",
        "drive.mount('/content/drive')"
      ]
    },
    {
      "cell_type": "code",
      "source": [
        "import torch"
      ],
      "metadata": {
        "id": "58bSn9_0C8He"
      },
      "execution_count": 2,
      "outputs": []
    },
    {
      "cell_type": "code",
      "source": [
        "from sklearn.metrics.pairwise import cosine_similarity\n",
        "import pandas as pd\n",
        "import numpy as np"
      ],
      "metadata": {
        "id": "5cfuNN1yC__S"
      },
      "execution_count": 3,
      "outputs": []
    },
    {
      "cell_type": "code",
      "source": [
        "import pickle"
      ],
      "metadata": {
        "id": "whoPFCnwXkvA"
      },
      "execution_count": 43,
      "outputs": []
    },
    {
      "cell_type": "code",
      "source": [
        "base_folder = \"/content/drive/MyDrive/Projects/Resume_Matching\"\n",
        "jd_selected_data = pd.read_csv(base_folder + \"/job_descriptions_selected_cleaned.csv\")\n",
        "resumes_all_data = pd.read_csv(base_folder + \"/Resumes_Extracted_Sectionized_False.csv\")"
      ],
      "metadata": {
        "id": "IhL87viQFrfK"
      },
      "execution_count": 5,
      "outputs": []
    },
    {
      "cell_type": "code",
      "source": [
        "with open(base_folder + \"/indices.pickle\", 'rb') as f:\n",
        "  jds_mapping = pickle.load(f)\n",
        "jds_mapping"
      ],
      "metadata": {
        "colab": {
          "base_uri": "https://localhost:8080/"
        },
        "id": "U1eYCJ0ID_De",
        "outputId": "7b9142e5-6daf-4d7a-ba48-38be7e1e0398"
      },
      "execution_count": 44,
      "outputs": [
        {
          "output_type": "execute_result",
          "data": {
            "text/plain": [
              "[3, 4, 5, 6, 7, 8, 9, 10, 11, 12, 13, 14, 15, 29, 30, 31, 32, 33, 34, 35, 36]"
            ]
          },
          "metadata": {},
          "execution_count": 44
        }
      ]
    },
    {
      "cell_type": "code",
      "source": [
        "len(jds_mapping)"
      ],
      "metadata": {
        "colab": {
          "base_uri": "https://localhost:8080/"
        },
        "id": "YoQseFfWYLcO",
        "outputId": "09fee7e1-811a-4198-fa70-43a7505295ed"
      },
      "execution_count": 45,
      "outputs": [
        {
          "output_type": "execute_result",
          "data": {
            "text/plain": [
              "21"
            ]
          },
          "metadata": {},
          "execution_count": 45
        }
      ]
    },
    {
      "cell_type": "code",
      "source": [
        "jd_vectors = torch.load(base_folder + \"/JDs_all_desc_vectors.pt\")\n",
        "resumes_all_vectors = torch.load(base_folder + \"/Resumes_all_vectors.pt\")"
      ],
      "metadata": {
        "id": "JU58fCvUGNXd"
      },
      "execution_count": 10,
      "outputs": []
    },
    {
      "cell_type": "code",
      "source": [
        "jd_vectors = jd_vectors.detach().numpy()\n",
        "resumes_all_vectors = resumes_all_vectors.detach().numpy()"
      ],
      "metadata": {
        "id": "aFxSYDuuGkPx"
      },
      "execution_count": 11,
      "outputs": []
    },
    {
      "cell_type": "code",
      "source": [
        "jd_vectors.shape"
      ],
      "metadata": {
        "colab": {
          "base_uri": "https://localhost:8080/"
        },
        "id": "6mEtkxEkG7-s",
        "outputId": "25d17651-caac-4677-8e27-eec23a43d332"
      },
      "execution_count": 12,
      "outputs": [
        {
          "output_type": "execute_result",
          "data": {
            "text/plain": [
              "(21, 768)"
            ]
          },
          "metadata": {},
          "execution_count": 12
        }
      ]
    },
    {
      "cell_type": "code",
      "source": [
        "resumes_all_vectors.shape"
      ],
      "metadata": {
        "colab": {
          "base_uri": "https://localhost:8080/"
        },
        "id": "5nvrTj5_MCHB",
        "outputId": "3e64f3f1-1ef0-4b9e-e3c8-c84b0503a6fd"
      },
      "execution_count": 13,
      "outputs": [
        {
          "output_type": "execute_result",
          "data": {
            "text/plain": [
              "(238, 768)"
            ]
          },
          "metadata": {},
          "execution_count": 13
        }
      ]
    },
    {
      "cell_type": "code",
      "source": [
        "# KNN\n",
        "selected_cvs = []\n",
        "for i in range(len(jd_vectors)):\n",
        "  sims = cosine_similarity([jd_vectors[i]], resumes_all_vectors)\n",
        "\n",
        "  sorted_indices = np.argsort(sims[0])\n",
        "  top_5_indices = sorted_indices[-5:]\n",
        "\n",
        "  cvs = [(resumes_all_data[\"cv_category\"][i], resumes_all_data[\"cv_number\"][i]) for i in top_5_indices]\n",
        "  selected_cvs.append(cvs)"
      ],
      "metadata": {
        "id": "4cXC-k7pG4VP"
      },
      "execution_count": 38,
      "outputs": []
    },
    {
      "cell_type": "code",
      "source": [
        "len(selected_cvs)"
      ],
      "metadata": {
        "colab": {
          "base_uri": "https://localhost:8080/"
        },
        "id": "5ovogPUvTCZC",
        "outputId": "1b9e30e3-4b32-42f3-dc7a-4d1dbcebd4d8"
      },
      "execution_count": 39,
      "outputs": [
        {
          "output_type": "execute_result",
          "data": {
            "text/plain": [
              "21"
            ]
          },
          "metadata": {},
          "execution_count": 39
        }
      ]
    },
    {
      "cell_type": "code",
      "source": [
        "scv = selected_cvs[0]"
      ],
      "metadata": {
        "id": "c_TA6htrTRKD"
      },
      "execution_count": 40,
      "outputs": []
    },
    {
      "cell_type": "code",
      "source": [
        "print(len(scv[0]))"
      ],
      "metadata": {
        "colab": {
          "base_uri": "https://localhost:8080/"
        },
        "id": "rj83LGNaTgb7",
        "outputId": "bf750571-2a97-4c89-b073-f9ba52c805db"
      },
      "execution_count": 41,
      "outputs": [
        {
          "output_type": "stream",
          "name": "stdout",
          "text": [
            "2\n"
          ]
        }
      ]
    },
    {
      "cell_type": "code",
      "source": [
        "print(selected_cvs[0])"
      ],
      "metadata": {
        "colab": {
          "base_uri": "https://localhost:8080/"
        },
        "id": "sA6ovptOTGtD",
        "outputId": "9765b9ec-6e93-4004-9d71-7664121da53e"
      },
      "execution_count": 42,
      "outputs": [
        {
          "output_type": "stream",
          "name": "stdout",
          "text": [
            "[('ENGINEERING', 33685075), ('INFORMATION-TECHNOLOGY', 28126340), ('ENGINEERING', 56691064), ('ENGINEERING', 28630325), ('ENGINEERING', 14049846)]\n"
          ]
        }
      ]
    },
    {
      "cell_type": "code",
      "source": [
        "content = {\"JD_Index\": [], \"1\": [], \"2\": [], \"3\": [], \"4\": [], \"5\": []}"
      ],
      "metadata": {
        "id": "KaIgboqSZNMb"
      },
      "execution_count": 46,
      "outputs": []
    },
    {
      "cell_type": "code",
      "source": [
        "content[\"JD_Index\"] = jds_mapping"
      ],
      "metadata": {
        "id": "l1u0IwLFkcfS"
      },
      "execution_count": 47,
      "outputs": []
    },
    {
      "cell_type": "code",
      "source": [
        "for i in range(len(jds_mapping)):\n",
        "  selected_cvs_list = selected_cvs[i]\n",
        "  for j in range(len(selected_cvs_list)):\n",
        "    cv_type = selected_cvs_list[j][0]\n",
        "    cv_number = selected_cvs_list[j][1]\n",
        "    cv_name = '-'.join([cv_type, str(cv_number)])\n",
        "    content[str(j+1)].append(cv_name)\n",
        "\n",
        "df = pd.DataFrame(content)"
      ],
      "metadata": {
        "id": "IPSw8kVKVHp-"
      },
      "execution_count": 49,
      "outputs": []
    },
    {
      "cell_type": "code",
      "source": [
        "df.head()"
      ],
      "metadata": {
        "colab": {
          "base_uri": "https://localhost:8080/",
          "height": 293
        },
        "id": "cBVFdWMdkFnp",
        "outputId": "d78e687d-4290-4a4c-8238-75a46867be04"
      },
      "execution_count": 50,
      "outputs": [
        {
          "output_type": "execute_result",
          "data": {
            "text/plain": [
              "   JD_Index                                1                                2  \\\n",
              "0         3             ENGINEERING-33685075  INFORMATION-TECHNOLOGY-28126340   \n",
              "1         4  INFORMATION-TECHNOLOGY-18176523             ENGINEERING-82246962   \n",
              "2         5             ENGINEERING-38535335  INFORMATION-TECHNOLOGY-24038620   \n",
              "3         6  INFORMATION-TECHNOLOGY-20674668  INFORMATION-TECHNOLOGY-64017585   \n",
              "4         7  INFORMATION-TECHNOLOGY-15802627  INFORMATION-TECHNOLOGY-24020470   \n",
              "\n",
              "                                 3                                4  \\\n",
              "0             ENGINEERING-56691064             ENGINEERING-28630325   \n",
              "1             ENGINEERING-36149549  INFORMATION-TECHNOLOGY-31111279   \n",
              "2  INFORMATION-TECHNOLOGY-24020470  INFORMATION-TECHNOLOGY-46260230   \n",
              "3             ENGINEERING-44624796             ENGINEERING-23497307   \n",
              "4  INFORMATION-TECHNOLOGY-31111279             ENGINEERING-36149549   \n",
              "\n",
              "                                 5  \n",
              "0             ENGINEERING-14049846  \n",
              "1  INFORMATION-TECHNOLOGY-46260230  \n",
              "2             ENGINEERING-36149549  \n",
              "3             ENGINEERING-32081266  \n",
              "4  INFORMATION-TECHNOLOGY-46260230  "
            ],
            "text/html": [
              "\n",
              "  <div id=\"df-ece01387-841b-4125-91cc-70cff2fddede\" class=\"colab-df-container\">\n",
              "    <div>\n",
              "<style scoped>\n",
              "    .dataframe tbody tr th:only-of-type {\n",
              "        vertical-align: middle;\n",
              "    }\n",
              "\n",
              "    .dataframe tbody tr th {\n",
              "        vertical-align: top;\n",
              "    }\n",
              "\n",
              "    .dataframe thead th {\n",
              "        text-align: right;\n",
              "    }\n",
              "</style>\n",
              "<table border=\"1\" class=\"dataframe\">\n",
              "  <thead>\n",
              "    <tr style=\"text-align: right;\">\n",
              "      <th></th>\n",
              "      <th>JD_Index</th>\n",
              "      <th>1</th>\n",
              "      <th>2</th>\n",
              "      <th>3</th>\n",
              "      <th>4</th>\n",
              "      <th>5</th>\n",
              "    </tr>\n",
              "  </thead>\n",
              "  <tbody>\n",
              "    <tr>\n",
              "      <th>0</th>\n",
              "      <td>3</td>\n",
              "      <td>ENGINEERING-33685075</td>\n",
              "      <td>INFORMATION-TECHNOLOGY-28126340</td>\n",
              "      <td>ENGINEERING-56691064</td>\n",
              "      <td>ENGINEERING-28630325</td>\n",
              "      <td>ENGINEERING-14049846</td>\n",
              "    </tr>\n",
              "    <tr>\n",
              "      <th>1</th>\n",
              "      <td>4</td>\n",
              "      <td>INFORMATION-TECHNOLOGY-18176523</td>\n",
              "      <td>ENGINEERING-82246962</td>\n",
              "      <td>ENGINEERING-36149549</td>\n",
              "      <td>INFORMATION-TECHNOLOGY-31111279</td>\n",
              "      <td>INFORMATION-TECHNOLOGY-46260230</td>\n",
              "    </tr>\n",
              "    <tr>\n",
              "      <th>2</th>\n",
              "      <td>5</td>\n",
              "      <td>ENGINEERING-38535335</td>\n",
              "      <td>INFORMATION-TECHNOLOGY-24038620</td>\n",
              "      <td>INFORMATION-TECHNOLOGY-24020470</td>\n",
              "      <td>INFORMATION-TECHNOLOGY-46260230</td>\n",
              "      <td>ENGINEERING-36149549</td>\n",
              "    </tr>\n",
              "    <tr>\n",
              "      <th>3</th>\n",
              "      <td>6</td>\n",
              "      <td>INFORMATION-TECHNOLOGY-20674668</td>\n",
              "      <td>INFORMATION-TECHNOLOGY-64017585</td>\n",
              "      <td>ENGINEERING-44624796</td>\n",
              "      <td>ENGINEERING-23497307</td>\n",
              "      <td>ENGINEERING-32081266</td>\n",
              "    </tr>\n",
              "    <tr>\n",
              "      <th>4</th>\n",
              "      <td>7</td>\n",
              "      <td>INFORMATION-TECHNOLOGY-15802627</td>\n",
              "      <td>INFORMATION-TECHNOLOGY-24020470</td>\n",
              "      <td>INFORMATION-TECHNOLOGY-31111279</td>\n",
              "      <td>ENGINEERING-36149549</td>\n",
              "      <td>INFORMATION-TECHNOLOGY-46260230</td>\n",
              "    </tr>\n",
              "  </tbody>\n",
              "</table>\n",
              "</div>\n",
              "    <div class=\"colab-df-buttons\">\n",
              "\n",
              "  <div class=\"colab-df-container\">\n",
              "    <button class=\"colab-df-convert\" onclick=\"convertToInteractive('df-ece01387-841b-4125-91cc-70cff2fddede')\"\n",
              "            title=\"Convert this dataframe to an interactive table.\"\n",
              "            style=\"display:none;\">\n",
              "\n",
              "  <svg xmlns=\"http://www.w3.org/2000/svg\" height=\"24px\" viewBox=\"0 -960 960 960\">\n",
              "    <path d=\"M120-120v-720h720v720H120Zm60-500h600v-160H180v160Zm220 220h160v-160H400v160Zm0 220h160v-160H400v160ZM180-400h160v-160H180v160Zm440 0h160v-160H620v160ZM180-180h160v-160H180v160Zm440 0h160v-160H620v160Z\"/>\n",
              "  </svg>\n",
              "    </button>\n",
              "\n",
              "  <style>\n",
              "    .colab-df-container {\n",
              "      display:flex;\n",
              "      gap: 12px;\n",
              "    }\n",
              "\n",
              "    .colab-df-convert {\n",
              "      background-color: #E8F0FE;\n",
              "      border: none;\n",
              "      border-radius: 50%;\n",
              "      cursor: pointer;\n",
              "      display: none;\n",
              "      fill: #1967D2;\n",
              "      height: 32px;\n",
              "      padding: 0 0 0 0;\n",
              "      width: 32px;\n",
              "    }\n",
              "\n",
              "    .colab-df-convert:hover {\n",
              "      background-color: #E2EBFA;\n",
              "      box-shadow: 0px 1px 2px rgba(60, 64, 67, 0.3), 0px 1px 3px 1px rgba(60, 64, 67, 0.15);\n",
              "      fill: #174EA6;\n",
              "    }\n",
              "\n",
              "    .colab-df-buttons div {\n",
              "      margin-bottom: 4px;\n",
              "    }\n",
              "\n",
              "    [theme=dark] .colab-df-convert {\n",
              "      background-color: #3B4455;\n",
              "      fill: #D2E3FC;\n",
              "    }\n",
              "\n",
              "    [theme=dark] .colab-df-convert:hover {\n",
              "      background-color: #434B5C;\n",
              "      box-shadow: 0px 1px 3px 1px rgba(0, 0, 0, 0.15);\n",
              "      filter: drop-shadow(0px 1px 2px rgba(0, 0, 0, 0.3));\n",
              "      fill: #FFFFFF;\n",
              "    }\n",
              "  </style>\n",
              "\n",
              "    <script>\n",
              "      const buttonEl =\n",
              "        document.querySelector('#df-ece01387-841b-4125-91cc-70cff2fddede button.colab-df-convert');\n",
              "      buttonEl.style.display =\n",
              "        google.colab.kernel.accessAllowed ? 'block' : 'none';\n",
              "\n",
              "      async function convertToInteractive(key) {\n",
              "        const element = document.querySelector('#df-ece01387-841b-4125-91cc-70cff2fddede');\n",
              "        const dataTable =\n",
              "          await google.colab.kernel.invokeFunction('convertToInteractive',\n",
              "                                                    [key], {});\n",
              "        if (!dataTable) return;\n",
              "\n",
              "        const docLinkHtml = 'Like what you see? Visit the ' +\n",
              "          '<a target=\"_blank\" href=https://colab.research.google.com/notebooks/data_table.ipynb>data table notebook</a>'\n",
              "          + ' to learn more about interactive tables.';\n",
              "        element.innerHTML = '';\n",
              "        dataTable['output_type'] = 'display_data';\n",
              "        await google.colab.output.renderOutput(dataTable, element);\n",
              "        const docLink = document.createElement('div');\n",
              "        docLink.innerHTML = docLinkHtml;\n",
              "        element.appendChild(docLink);\n",
              "      }\n",
              "    </script>\n",
              "  </div>\n",
              "\n",
              "\n",
              "<div id=\"df-2b024c6a-5363-464c-add7-ea03b10948a7\">\n",
              "  <button class=\"colab-df-quickchart\" onclick=\"quickchart('df-2b024c6a-5363-464c-add7-ea03b10948a7')\"\n",
              "            title=\"Suggest charts.\"\n",
              "            style=\"display:none;\">\n",
              "\n",
              "<svg xmlns=\"http://www.w3.org/2000/svg\" height=\"24px\"viewBox=\"0 0 24 24\"\n",
              "     width=\"24px\">\n",
              "    <g>\n",
              "        <path d=\"M19 3H5c-1.1 0-2 .9-2 2v14c0 1.1.9 2 2 2h14c1.1 0 2-.9 2-2V5c0-1.1-.9-2-2-2zM9 17H7v-7h2v7zm4 0h-2V7h2v10zm4 0h-2v-4h2v4z\"/>\n",
              "    </g>\n",
              "</svg>\n",
              "  </button>\n",
              "\n",
              "<style>\n",
              "  .colab-df-quickchart {\n",
              "      --bg-color: #E8F0FE;\n",
              "      --fill-color: #1967D2;\n",
              "      --hover-bg-color: #E2EBFA;\n",
              "      --hover-fill-color: #174EA6;\n",
              "      --disabled-fill-color: #AAA;\n",
              "      --disabled-bg-color: #DDD;\n",
              "  }\n",
              "\n",
              "  [theme=dark] .colab-df-quickchart {\n",
              "      --bg-color: #3B4455;\n",
              "      --fill-color: #D2E3FC;\n",
              "      --hover-bg-color: #434B5C;\n",
              "      --hover-fill-color: #FFFFFF;\n",
              "      --disabled-bg-color: #3B4455;\n",
              "      --disabled-fill-color: #666;\n",
              "  }\n",
              "\n",
              "  .colab-df-quickchart {\n",
              "    background-color: var(--bg-color);\n",
              "    border: none;\n",
              "    border-radius: 50%;\n",
              "    cursor: pointer;\n",
              "    display: none;\n",
              "    fill: var(--fill-color);\n",
              "    height: 32px;\n",
              "    padding: 0;\n",
              "    width: 32px;\n",
              "  }\n",
              "\n",
              "  .colab-df-quickchart:hover {\n",
              "    background-color: var(--hover-bg-color);\n",
              "    box-shadow: 0 1px 2px rgba(60, 64, 67, 0.3), 0 1px 3px 1px rgba(60, 64, 67, 0.15);\n",
              "    fill: var(--button-hover-fill-color);\n",
              "  }\n",
              "\n",
              "  .colab-df-quickchart-complete:disabled,\n",
              "  .colab-df-quickchart-complete:disabled:hover {\n",
              "    background-color: var(--disabled-bg-color);\n",
              "    fill: var(--disabled-fill-color);\n",
              "    box-shadow: none;\n",
              "  }\n",
              "\n",
              "  .colab-df-spinner {\n",
              "    border: 2px solid var(--fill-color);\n",
              "    border-color: transparent;\n",
              "    border-bottom-color: var(--fill-color);\n",
              "    animation:\n",
              "      spin 1s steps(1) infinite;\n",
              "  }\n",
              "\n",
              "  @keyframes spin {\n",
              "    0% {\n",
              "      border-color: transparent;\n",
              "      border-bottom-color: var(--fill-color);\n",
              "      border-left-color: var(--fill-color);\n",
              "    }\n",
              "    20% {\n",
              "      border-color: transparent;\n",
              "      border-left-color: var(--fill-color);\n",
              "      border-top-color: var(--fill-color);\n",
              "    }\n",
              "    30% {\n",
              "      border-color: transparent;\n",
              "      border-left-color: var(--fill-color);\n",
              "      border-top-color: var(--fill-color);\n",
              "      border-right-color: var(--fill-color);\n",
              "    }\n",
              "    40% {\n",
              "      border-color: transparent;\n",
              "      border-right-color: var(--fill-color);\n",
              "      border-top-color: var(--fill-color);\n",
              "    }\n",
              "    60% {\n",
              "      border-color: transparent;\n",
              "      border-right-color: var(--fill-color);\n",
              "    }\n",
              "    80% {\n",
              "      border-color: transparent;\n",
              "      border-right-color: var(--fill-color);\n",
              "      border-bottom-color: var(--fill-color);\n",
              "    }\n",
              "    90% {\n",
              "      border-color: transparent;\n",
              "      border-bottom-color: var(--fill-color);\n",
              "    }\n",
              "  }\n",
              "</style>\n",
              "\n",
              "  <script>\n",
              "    async function quickchart(key) {\n",
              "      const quickchartButtonEl =\n",
              "        document.querySelector('#' + key + ' button');\n",
              "      quickchartButtonEl.disabled = true;  // To prevent multiple clicks.\n",
              "      quickchartButtonEl.classList.add('colab-df-spinner');\n",
              "      try {\n",
              "        const charts = await google.colab.kernel.invokeFunction(\n",
              "            'suggestCharts', [key], {});\n",
              "      } catch (error) {\n",
              "        console.error('Error during call to suggestCharts:', error);\n",
              "      }\n",
              "      quickchartButtonEl.classList.remove('colab-df-spinner');\n",
              "      quickchartButtonEl.classList.add('colab-df-quickchart-complete');\n",
              "    }\n",
              "    (() => {\n",
              "      let quickchartButtonEl =\n",
              "        document.querySelector('#df-2b024c6a-5363-464c-add7-ea03b10948a7 button');\n",
              "      quickchartButtonEl.style.display =\n",
              "        google.colab.kernel.accessAllowed ? 'block' : 'none';\n",
              "    })();\n",
              "  </script>\n",
              "</div>\n",
              "    </div>\n",
              "  </div>\n"
            ]
          },
          "metadata": {},
          "execution_count": 50
        }
      ]
    },
    {
      "cell_type": "code",
      "source": [
        "df.to_csv(base_folder + \"/top_5_cvs_selected_jds.csv\")"
      ],
      "metadata": {
        "id": "bKV2OsMnkGxg"
      },
      "execution_count": 51,
      "outputs": []
    }
  ]
}